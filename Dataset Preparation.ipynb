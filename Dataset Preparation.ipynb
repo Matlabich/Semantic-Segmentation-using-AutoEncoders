{
 "cells": [
  {
   "cell_type": "markdown",
   "metadata": {},
   "source": [
    "# Dataset Preparation\n",
    "\n",
    "Use the `COCO API` to create images of Segmentation Masks for the class: `person`"
   ]
  },
  {
   "cell_type": "code",
   "execution_count": 1,
   "metadata": {},
   "outputs": [],
   "source": [
    "from pycocotools.coco import COCO\n",
    "import os\n",
    "import cv2\n",
    "import time\n",
    "import matplotlib.pyplot as plt\n",
    "import numpy as np\n",
    "from tqdm import tqdm\n",
    "import random"
   ]
  },
  {
   "cell_type": "code",
   "execution_count": 2,
   "metadata": {},
   "outputs": [],
   "source": [
    "# Annotation Files\n",
    "train_ann = \"/media/ActiveTraining/Datasets/COCO/annotations/instances_train2017.json\"\n",
    "val_ann = \"/media/ActiveTraining/Datasets/COCO/annotations/instances_val2017.json\"\n",
    "\n",
    "train_img_dir = '/media/ActiveTraining/Datasets/COCO/train/'\n",
    "val_img_dir = '/media/ActiveTraining/Datasets/COCO/val/'\n",
    "\n",
    "train_dest_segmentation_masks = '/media/ActiveTraining/Datasets/COCO/segmentations/train'\n",
    "val_dest_segmentation_masks = '/media/ActiveTraining/Datasets/COCO/segmentations/val'"
   ]
  },
  {
   "cell_type": "markdown",
   "metadata": {},
   "source": [
    "### Load the COCO Dataset"
   ]
  },
  {
   "cell_type": "code",
   "execution_count": 3,
   "metadata": {},
   "outputs": [
    {
     "name": "stdout",
     "output_type": "stream",
     "text": [
      "loading annotations into memory...\n",
      "Done (t=15.27s)\n",
      "creating index...\n",
      "index created!\n",
      "loading annotations into memory...\n",
      "Done (t=0.61s)\n",
      "creating index...\n",
      "index created!\n"
     ]
    }
   ],
   "source": [
    "# Initialize the COCO objects\n",
    "train_coco = COCO(train_ann)\n",
    "val_coco = COCO(val_ann)"
   ]
  },
  {
   "cell_type": "markdown",
   "metadata": {},
   "source": [
    "### Functions to Convert COCO to Segmentation Masks"
   ]
  },
  {
   "cell_type": "code",
   "execution_count": 4,
   "metadata": {},
   "outputs": [],
   "source": [
    "def get_mask(coco_object, index, filtered_cat_id, filtered_img_id, img_dir):\n",
    "    # Load Image\n",
    "    img_meta = coco_object.loadImgs(filtered_img_id[index])\n",
    "    img_path = os.path.join(img_dir, img_meta[0]['file_name'])\n",
    "    img = cv2.imread(img_path)\n",
    "\n",
    "    # Load Annotations\n",
    "    annIds = coco_object.getAnnIds(imgIds=img_meta[0]['id'], catIds=filtered_cat_id, iscrowd=None)\n",
    "    anns = coco_object.loadAnns(annIds)\n",
    "    \n",
    "    # Generate Mask\n",
    "    anns_img = np.zeros((img.shape[:-1]), dtype=np.uint8)\n",
    "    for ann in anns:\n",
    "        anns_img = np.maximum(anns_img, coco_object.annToMask(ann)*ann['category_id'])\n",
    "        \n",
    "    return img_meta[0]['file_name'], anns_img * 255\n",
    "\n",
    "\n",
    "def write_mask(coco_object, index, filtered_cat_id, filtered_img_id, dest_folder, img_dir):\n",
    "    if not os.path.isdir(dest_folder):\n",
    "        os.makedirs(dest_folder)\n",
    "        \n",
    "    filename, mask = get_mask(coco_object, index, filtered_cat_id, filtered_img_id, img_dir)\n",
    "    dest_path = os.path.join(dest_folder, filename)\n",
    "    cv2.imwrite(dest_path, mask)\n",
    "\n",
    "\n",
    "def write_train_masks(train_coco, train_dest_folder, classes=['person']):\n",
    "    print(\"Processing Train Images\")\n",
    "    time.sleep(0.5)\n",
    "    filtered_cat_id = train_coco.getCatIds(classes)\n",
    "    filtered_img_id = train_coco.getImgIds(catIds=filtered_cat_id) \n",
    "    \n",
    "    for i in tqdm(range(len(filtered_img_id))):\n",
    "        write_mask(train_coco, i, filtered_cat_id, filtered_img_id, train_dest_folder, train_img_dir)\n",
    "        \n",
    "    print(\"Train Segmentation Masks Processing Complete\")\n",
    "\n",
    "\n",
    "def write_val_masks(val_coco, val_dest_folder, classes=['person']):\n",
    "    print(\"Processing Val Images\")\n",
    "    time.sleep(0.5)\n",
    "    filtered_cat_id = val_coco.getCatIds(classes)\n",
    "    filtered_img_id = val_coco.getImgIds(catIds=filtered_cat_id) \n",
    "    \n",
    "    for i in tqdm(range(len(filtered_img_id))):\n",
    "        write_mask(val_coco, i, filtered_cat_id, filtered_img_id, val_dest_folder, val_img_dir)\n",
    "        \n",
    "    print(\"Val Segmentation Masks Processing Complete\")\n"
   ]
  },
  {
   "cell_type": "code",
   "execution_count": 5,
   "metadata": {},
   "outputs": [
    {
     "name": "stdout",
     "output_type": "stream",
     "text": [
      "Processing Train Images\n"
     ]
    },
    {
     "name": "stderr",
     "output_type": "stream",
     "text": [
      "100%|██████████| 64115/64115 [07:55<00:00, 134.84it/s]\n"
     ]
    },
    {
     "name": "stdout",
     "output_type": "stream",
     "text": [
      "Train Segmentation Masks Processing Complete\n",
      "Processing Val Images\n"
     ]
    },
    {
     "name": "stderr",
     "output_type": "stream",
     "text": [
      "100%|██████████| 2693/2693 [00:20<00:00, 132.84it/s]"
     ]
    },
    {
     "name": "stdout",
     "output_type": "stream",
     "text": [
      "Val Segmentation Masks Processing Complete\n"
     ]
    },
    {
     "name": "stderr",
     "output_type": "stream",
     "text": [
      "\n"
     ]
    }
   ],
   "source": [
    "write_train_masks(train_coco, train_dest_segmentation_masks)\n",
    "write_val_masks(val_coco, val_dest_segmentation_masks)"
   ]
  }
 ],
 "metadata": {
  "kernelspec": {
   "display_name": "Python [conda env:tf2x]",
   "language": "python",
   "name": "conda-env-tf2x-py"
  },
  "language_info": {
   "codemirror_mode": {
    "name": "ipython",
    "version": 3
   },
   "file_extension": ".py",
   "mimetype": "text/x-python",
   "name": "python",
   "nbconvert_exporter": "python",
   "pygments_lexer": "ipython3",
   "version": "3.7.4"
  }
 },
 "nbformat": 4,
 "nbformat_minor": 2
}
