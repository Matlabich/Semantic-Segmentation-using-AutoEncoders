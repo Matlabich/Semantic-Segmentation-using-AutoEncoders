{
  "cells": [
    {
      "cell_type": "code",
      "execution_count": null,
      "metadata": {
        "id": "hwiIKEyAK5hz"
      },
      "outputs": [],
      "source": [
        "# Mount Google Drive to /content/gdive dir\n",
        "from google.colab import drive\n",
        "drive.mount('/content/gdrive')\n",
        "\n",
        "# List the files in the My Drive dir\n",
        "!ls \"/content/gdrive/My Drive/\""
      ]
    },
    {
      "cell_type": "code",
      "execution_count": null,
      "metadata": {
        "colab": {
          "base_uri": "https://localhost:8080/"
        },
        "id": "DMhwvN6WNesA",
        "outputId": "0dcdaa95-0d19-4be3-c491-b9440e97eac1"
      },
      "outputs": [],
      "source": [
        "!mkdir COCO\n",
        "\n",
        "!wget http://images.cocodataset.org/zips/train2017.zip\n",
        "!unzip train2017.zip\n",
        "!rm train2017.zip\n",
        "\n",
        "!wget http://images.cocodataset.org/zips/val2017.zip\n",
        "!unzip val2017.zip\n",
        "!rm val2017.zip\n",
        "\n",
        "#!wget http://images.cocodataset.org/zips/test2017.zip\n",
        "#!unzip test2017.zip\n",
        "#!rm test2017.zip\n",
        "\n",
        "\n",
        "!cd ../\n",
        "!wget http://images.cocodataset.org/annotations/annotations_trainval2017.zip\n",
        "!unzip annotations_trainval2017.zip\n",
        "!rm annotations_trainval2017.zip"
      ]
    },
    {
      "cell_type": "code",
      "execution_count": null,
      "metadata": {
        "id": "nA-qXOjWM_wE"
      },
      "outputs": [],
      "source": [
        "from pycocotools.coco import COCO\n",
        "import os\n",
        "import cv2\n",
        "import time\n",
        "import matplotlib.pyplot as plt\n",
        "import numpy as np\n",
        "from tqdm import tqdm\n",
        "import random"
      ]
    },
    {
      "cell_type": "code",
      "execution_count": null,
      "metadata": {
        "id": "dNZPo1InNA4_"
      },
      "outputs": [],
      "source": [
        "# Annotation Files\n",
        "train_ann = \"/content/annotations/instances_train2017.json\"\n",
        "val_ann = \"/content/annotations/instances_val2017.json\"\n",
        "\n",
        "train_img_dir = '/content/train2017/'\n",
        "val_img_dir = '/content/val2017/'\n",
        "\n",
        "train_dest_segmentation_masks = '/content/segmentations/train'\n",
        "val_dest_segmentation_masks = '/content/segmentations/val'"
      ]
    },
    {
      "cell_type": "code",
      "execution_count": null,
      "metadata": {
        "colab": {
          "base_uri": "https://localhost:8080/"
        },
        "id": "pHUEdfjKNEuz",
        "outputId": "ae371796-7693-4379-bd0b-3f6995d503d1"
      },
      "outputs": [
        {
          "name": "stdout",
          "output_type": "stream",
          "text": [
            "loading annotations into memory...\n",
            "Done (t=15.53s)\n",
            "creating index...\n",
            "index created!\n",
            "loading annotations into memory...\n",
            "Done (t=0.46s)\n",
            "creating index...\n",
            "index created!\n"
          ]
        }
      ],
      "source": [
        "# Initialize the COCO objects\n",
        "train_coco = COCO(train_ann)\n",
        "val_coco = COCO(val_ann)"
      ]
    },
    {
      "cell_type": "code",
      "execution_count": null,
      "metadata": {
        "id": "aBibAXhfNHY4"
      },
      "outputs": [],
      "source": [
        "def get_mask(coco_object, index, filtered_cat_id, filtered_img_id, img_dir):\n",
        "    # Load Image\n",
        "    img_meta = coco_object.loadImgs(filtered_img_id[index])\n",
        "    img_path = os.path.join(img_dir, img_meta[0]['file_name'])\n",
        "    img = cv2.imread(img_path)\n",
        "\n",
        "    # Load Annotations\n",
        "    annIds = coco_object.getAnnIds(imgIds=img_meta[0]['id'], catIds=filtered_cat_id, iscrowd=None)\n",
        "    anns = coco_object.loadAnns(annIds)\n",
        "    \n",
        "    # Generate Mask\n",
        "    anns_img = np.zeros((img.shape[:-1]), dtype=np.uint8)\n",
        "    for ann in anns:\n",
        "        anns_img = np.maximum(anns_img, coco_object.annToMask(ann)*ann['category_id'])\n",
        "        \n",
        "    return img_meta[0]['file_name'], anns_img * 255\n",
        "\n",
        "\n",
        "def write_mask(coco_object, index, filtered_cat_id, filtered_img_id, dest_folder, img_dir):\n",
        "    if not os.path.isdir(dest_folder):\n",
        "        os.makedirs(dest_folder)\n",
        "        \n",
        "    filename, mask = get_mask(coco_object, index, filtered_cat_id, filtered_img_id, img_dir)\n",
        "    dest_path = os.path.join(dest_folder, filename)\n",
        "    cv2.imwrite(dest_path, mask)\n",
        "\n",
        "\n",
        "def write_train_masks(train_coco, train_dest_folder, classes=['person']):\n",
        "    print(\"Processing Train Images\")\n",
        "    time.sleep(0.5)\n",
        "    filtered_cat_id = train_coco.getCatIds(classes)\n",
        "    filtered_img_id = train_coco.getImgIds(catIds=filtered_cat_id) \n",
        "    \n",
        "    for i in tqdm(range(len(filtered_img_id))):\n",
        "        write_mask(train_coco, i, filtered_cat_id, filtered_img_id, train_dest_folder, train_img_dir)\n",
        "        \n",
        "    print(\"Train Segmentation Masks Processing Complete\")\n",
        "\n",
        "\n",
        "def write_val_masks(val_coco, val_dest_folder, classes=['person']):\n",
        "    print(\"Processing Val Images\")\n",
        "    time.sleep(0.5)\n",
        "    filtered_cat_id = val_coco.getCatIds(classes)\n",
        "    filtered_img_id = val_coco.getImgIds(catIds=filtered_cat_id) \n",
        "    \n",
        "    for i in tqdm(range(len(filtered_img_id))):\n",
        "        write_mask(val_coco, i, filtered_cat_id, filtered_img_id, val_dest_folder, val_img_dir)\n",
        "        \n",
        "    print(\"Val Segmentation Masks Processing Complete\")\n"
      ]
    },
    {
      "cell_type": "code",
      "execution_count": null,
      "metadata": {
        "colab": {
          "base_uri": "https://localhost:8080/"
        },
        "id": "_358EmidNMaf",
        "outputId": "73e4797e-cea3-46f0-c57b-756d2df5b673"
      },
      "outputs": [
        {
          "name": "stdout",
          "output_type": "stream",
          "text": [
            "Processing Train Images\n"
          ]
        },
        {
          "name": "stderr",
          "output_type": "stream",
          "text": [
            "100%|██████████| 64115/64115 [16:50<00:00, 63.45it/s]\n"
          ]
        },
        {
          "name": "stdout",
          "output_type": "stream",
          "text": [
            "Train Segmentation Masks Processing Complete\n",
            "Processing Val Images\n"
          ]
        },
        {
          "name": "stderr",
          "output_type": "stream",
          "text": [
            "100%|██████████| 2693/2693 [00:34<00:00, 77.10it/s]"
          ]
        },
        {
          "name": "stdout",
          "output_type": "stream",
          "text": [
            "Val Segmentation Masks Processing Complete\n"
          ]
        },
        {
          "name": "stderr",
          "output_type": "stream",
          "text": [
            "\n"
          ]
        }
      ],
      "source": [
        "write_train_masks(train_coco, train_dest_segmentation_masks)\n",
        "write_val_masks(val_coco, val_dest_segmentation_masks)"
      ]
    },
    {
      "cell_type": "code",
      "execution_count": null,
      "metadata": {
        "colab": {
          "base_uri": "https://localhost:8080/"
        },
        "id": "a4lvUkR1fYH3",
        "outputId": "4204e851-b7d3-4ca5-cf07-918805fee785"
      },
      "outputs": [],
      "source": [
        "# Save results from segmentation\n",
        "!zip -r \"/content/gdrive/My Drive/segmentations.zip\" /content/segmentations"
      ]
    },
    {
      "cell_type": "code",
      "execution_count": null,
      "metadata": {
        "colab": {
          "base_uri": "https://localhost:8080/"
        },
        "id": "ptVaTHFWjtAo",
        "outputId": "1117f7b9-f583-4550-c468-e5165426f041"
      },
      "outputs": [],
      "source": [
        "#!unzip \"/content/gdrive/My Drive/segmentations.zip\"\n",
        "#!mv /content/content/segmentations/train /content/COCO/masks/\n",
        "#!mv /content/content/segmentations/val /content/COCO/masks/"
      ]
    }
  ],
  "metadata": {
    "accelerator": "GPU",
    "colab": {
      "name": "TestingCollaboratory.ipynb",
      "provenance": []
    },
    "gpuClass": "standard",
    "kernelspec": {
      "display_name": "Python 3.10.4 64-bit",
      "language": "python",
      "name": "python3"
    },
    "language_info": {
      "name": "python",
      "version": "3.10.4"
    },
    "vscode": {
      "interpreter": {
        "hash": "aee8b7b246df8f9039afb4144a1f6fd8d2ca17a180786b69acc140d282b71a49"
      }
    }
  },
  "nbformat": 4,
  "nbformat_minor": 0
}
